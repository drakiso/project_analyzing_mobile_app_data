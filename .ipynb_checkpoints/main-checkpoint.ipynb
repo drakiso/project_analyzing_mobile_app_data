{
 "cells": [
  {
   "cell_type": "markdown",
   "id": "ab6eae4a-cc73-461f-bcf4-63b70aa15b6b",
   "metadata": {},
   "source": [
    "# Guided Project: Profitable App Profiles for the App Store and Google Play Markets"
   ]
  },
  {
   "cell_type": "markdown",
   "id": "716cf55c-9bc4-45cc-8219-4c1eec5e2457",
   "metadata": {},
   "source": [
    "As a data-analyst working for a company that make free app and get money from ads, the goal of this project is to help our developers understand what type of apps are likely to attract more users on Google Play and the App Store, because the number of people using our apps affect our revenue."
   ]
  },
  {
   "cell_type": "markdown",
   "id": "f0f8e7ed-e796-4043-9f5e-d7b0fd350e65",
   "metadata": {},
   "source": [
    "## Definition of the fonction explore_data()\n",
    "This function help us print the rows of our data in a readable way."
   ]
  },
  {
   "cell_type": "code",
   "execution_count": 1,
   "id": "bda9f171-db94-4678-a121-0d5d507d645c",
   "metadata": {},
   "outputs": [],
   "source": [
    "def explore_data(dataset, start, end, rows_and_columns=False):\n",
    "    dataset_slice = dataset[start:end]    \n",
    "    for row in dataset_slice:\n",
    "        print(row)\n",
    "        print('\\n') # adds a new (empty) line after each row\n",
    "\n",
    "    if rows_and_columns:\n",
    "        print('Number of rows:', len(dataset))\n",
    "        print('Number of columns:', len(dataset[0]))"
   ]
  },
  {
   "cell_type": "code",
   "execution_count": 2,
   "id": "16051b8f-561e-4be5-b5b6-fa905319eaab",
   "metadata": {},
   "outputs": [],
   "source": [
    "from csv import reader\n",
    "\n",
    "open_apple = open('./assets/AppleStore.csv', encoding='utf8')\n",
    "open_google = open('./assets/googleplaystore.csv', encoding='utf8')\n",
    "\n",
    "apple_data = list(reader(open_apple))\n",
    "google_data = list(reader(open_google))"
   ]
  },
  {
   "cell_type": "markdown",
   "id": "cb77114c-3111-4114-93cd-22b4bc055741",
   "metadata": {},
   "source": [
    "## Import data\n",
    "We open the necessary data for our project and save them in two lists"
   ]
  },
  {
   "cell_type": "markdown",
   "id": "aa138d43-1fdc-402a-8c96-919be101ab99",
   "metadata": {},
   "source": [
    "## Explore the data\n",
    "We use the explore_data function for that."
   ]
  },
  {
   "cell_type": "code",
   "execution_count": 3,
   "id": "88c17065-23ff-458f-8857-a5838541b19f",
   "metadata": {},
   "outputs": [
    {
     "name": "stdout",
     "output_type": "stream",
     "text": [
      "['284882215', 'Facebook', '389879808', 'USD', '0.0', '2974676', '212', '3.5', '3.5', '95.0', '4+', 'Social Networking', '37', '1', '29', '1']\n",
      "\n",
      "\n",
      "['389801252', 'Instagram', '113954816', 'USD', '0.0', '2161558', '1289', '4.5', '4.0', '10.23', '12+', 'Photo & Video', '37', '0', '29', '1']\n",
      "\n",
      "\n",
      "['529479190', 'Clash of Clans', '116476928', 'USD', '0.0', '2130805', '579', '4.5', '4.5', '9.24.12', '9+', 'Games', '38', '5', '18', '1']\n",
      "\n",
      "\n",
      "['420009108', 'Temple Run', '65921024', 'USD', '0.0', '1724546', '3842', '4.5', '4.0', '1.6.2', '9+', 'Games', '40', '5', '1', '1']\n",
      "\n",
      "\n",
      "['284035177', 'Pandora - Music & Radio', '130242560', 'USD', '0.0', '1126879', '3594', '4.0', '4.5', '8.4.1', '12+', 'Music', '37', '4', '1', '1']\n",
      "\n",
      "\n",
      "Number of rows: 7197\n",
      "Number of columns: 16\n",
      "\n",
      "['Photo Editor & Candy Camera & Grid & ScrapBook', 'ART_AND_DESIGN', '4.1', '159', '19M', '10,000+', 'Free', '0', 'Everyone', 'Art & Design', 'January 7, 2018', '1.0.0', '4.0.3 and up']\n",
      "\n",
      "\n",
      "['Coloring book moana', 'ART_AND_DESIGN', '3.9', '967', '14M', '500,000+', 'Free', '0', 'Everyone', 'Art & Design;Pretend Play', 'January 15, 2018', '2.0.0', '4.0.3 and up']\n",
      "\n",
      "\n",
      "['U Launcher Lite – FREE Live Cool Themes, Hide Apps', 'ART_AND_DESIGN', '4.7', '87510', '8.7M', '5,000,000+', 'Free', '0', 'Everyone', 'Art & Design', 'August 1, 2018', '1.2.4', '4.0.3 and up']\n",
      "\n",
      "\n",
      "['Sketch - Draw & Paint', 'ART_AND_DESIGN', '4.5', '215644', '25M', '50,000,000+', 'Free', '0', 'Teen', 'Art & Design', 'June 8, 2018', 'Varies with device', '4.2 and up']\n",
      "\n",
      "\n",
      "['Pixel Draw - Number Art Coloring Book', 'ART_AND_DESIGN', '4.3', '967', '2.8M', '100,000+', 'Free', '0', 'Everyone', 'Art & Design;Creativity', 'June 20, 2018', '1.1', '4.4 and up']\n",
      "\n",
      "\n",
      "Number of rows: 10841\n",
      "Number of columns: 13\n"
     ]
    }
   ],
   "source": [
    "rows_apple = apple_data[1:]\n",
    "rows_google = google_data[1:]\n",
    "\n",
    "explore_data(rows_apple, 0, 5, rows_and_columns=True)\n",
    "print()\n",
    "explore_data(rows_google, 0, 5, rows_and_columns=True)"
   ]
  },
  {
   "cell_type": "markdown",
   "id": "3650c405-3bc6-42fb-b46e-66a13be1da03",
   "metadata": {},
   "source": [
    "## Columns identification\n",
    "Identification of the columns in the datasets that could help us with our analysis.\n",
    "For more information about the column name check the following links:\n",
    "* [Apple Store data](https://www.kaggle.com/datasets/ramamet4/app-store-apple-data-set-10k-apps)\n",
    "* [Google Play Store data](https://www.kaggle.com/datasets/lava18/google-play-store-apps)\n",
    "\n",
    "**Identified columns for apple store**: track_name, price, rating_count_tot, user_rating, prime_genre.\n",
    "**Identified columns for google store**: App, Category, Rating, Installs, Type, Genres."
   ]
  },
  {
   "cell_type": "code",
   "execution_count": 4,
   "id": "394210ad-fccd-404e-9ecb-4eb0899de7bf",
   "metadata": {},
   "outputs": [
    {
     "name": "stdout",
     "output_type": "stream",
     "text": [
      "['id', 'track_name', 'size_bytes', 'currency', 'price', 'rating_count_tot', 'rating_count_ver', 'user_rating', 'user_rating_ver', 'ver', 'cont_rating', 'prime_genre', 'sup_devices.num', 'ipadSc_urls.num', 'lang.num', 'vpp_lic']\n",
      "['App', 'Category', 'Rating', 'Reviews', 'Size', 'Installs', 'Type', 'Price', 'Content Rating', 'Genres', 'Last Updated', 'Current Ver', 'Android Ver']\n"
     ]
    }
   ],
   "source": [
    "print(apple_data[0])\n",
    "print(google_data[0])"
   ]
  },
  {
   "cell_type": "markdown",
   "id": "539b637f-21da-4525-b78c-b4c06bf6d42f",
   "metadata": {},
   "source": [
    "## Data cleaning\n",
    "### Remove the inaccurate data\n",
    "From that [discussion](https://www.kaggle.com/datasets/lava18/google-play-store-apps/discussion/66015) it seems that a column is missing in a certain row in the google play data.\n",
    "First, we use the **for loop** to determine that row.\n",
    "Second, we print that row\n",
    "Third, we delete that row."
   ]
  },
  {
   "cell_type": "code",
   "execution_count": 5,
   "id": "f33931ea-23d2-4fe1-ba4b-cd9854437957",
   "metadata": {},
   "outputs": [
    {
     "name": "stdout",
     "output_type": "stream",
     "text": [
      "Error occured in row number 10472\n",
      "\n",
      "['Life Made WI-Fi Touchscreen Photo Frame', '1.9', '19', '3.0M', '1,000+', 'Free', '0', 'Everyone', '', 'February 11, 2018', '1.0.19', '4.0 and up'] \n",
      "\n",
      "row deleted...\n"
     ]
    }
   ],
   "source": [
    "i = 0 \n",
    "for row in rows_google:\n",
    "    if len(google_data[0]) != len(row):\n",
    "        print(f\"Error occured in row number {i}\\n\")\n",
    "        print(row, \"\\n\")\n",
    "        del rows_google[i]\n",
    "        print(\"row deleted...\")\n",
    "\n",
    "    i += 1"
   ]
  },
  {
   "cell_type": "markdown",
   "id": "b17d2778-3ab0-43e4-8a78-1920c6c2e858",
   "metadata": {},
   "source": [
    "Now lets's check if our google play dataset contains duplicate datas. To do that we will :\n",
    "- Create to list. One for the uniques data and another for the duplicate data;\n",
    "- loop other the google play data set;\n",
    "- Verify if the current data exist in the list of unique datas, if not, we append the list, else we append the list of duplicate data."
   ]
  },
  {
   "cell_type": "code",
   "execution_count": 6,
   "id": "bdc88b80-269b-407a-9ae3-dcf457ffcff4",
   "metadata": {},
   "outputs": [
    {
     "name": "stdout",
     "output_type": "stream",
     "text": [
      "From our loop we see that the following data name for example is duplicated: \n",
      "['Slack', 'BUSINESS', '4.4', '51507', 'Varies with device', '5,000,000+', 'Free', '0', 'Everyone', 'Business', 'August 2, 2018', 'Varies with device', 'Varies with device']\n",
      "['Slack', 'BUSINESS', '4.4', '51507', 'Varies with device', '5,000,000+', 'Free', '0', 'Everyone', 'Business', 'August 2, 2018', 'Varies with device', 'Varies with device']\n",
      "['Slack', 'BUSINESS', '4.4', '51510', 'Varies with device', '5,000,000+', 'Free', '0', 'Everyone', 'Business', 'August 2, 2018', 'Varies with device', 'Varies with device']\n",
      "\n",
      "All in all we have,  1181 duplicated datas\n"
     ]
    }
   ],
   "source": [
    "unique_datas = []\n",
    "duplicate_datas = []\n",
    "\n",
    "for row in rows_google:\n",
    "    name = row[0]\n",
    "    if name in unique_datas:\n",
    "        duplicate_datas.append(name)\n",
    "    else:\n",
    "        unique_datas.append(name)\n",
    "\n",
    "print(\"From our loop we see that the following data name for example is duplicated: \")\n",
    "\n",
    "for row in rows_google:\n",
    "    name = row[0]\n",
    "    if name == 'Slack':\n",
    "        print(row)\n",
    "\n",
    "print(\"\\nAll in all we have, \",len(duplicate_datas), \"duplicated datas\")"
   ]
  },
  {
   "cell_type": "markdown",
   "id": "896c03bc-5424-4045-a77e-10bc0b351c25",
   "metadata": {},
   "source": [
    "For our analyse we will remove duplicate datas. We want to keep the more recents datas. Since the total row of our google data is 10841 and 1181 of them are duplicated - the header, 9659 should be left after cleaning.\n",
    "We can do it by using the datas with the most elevate number of reviews, since reviews are cumulative, the highter number represent the more recent."
   ]
  },
  {
   "cell_type": "markdown",
   "id": "8c474393-6f3d-430f-9137-175942b1d10f",
   "metadata": {},
   "source": [
    "### Now let's remove the duplicated entries\n",
    "This operation will be made in 02 steps.\n",
    "First: With the help of dictionary we create a table that will contain the name of the app and they maximum review.\n",
    "Second: We loop on the google strore data, and we verify if the maximum review of one app is equal to the maximum review of the same app in our first table. If yes, we add that row in a new list and add the name of the app on a list that will contain app already added (because some app have the same maximum of reviews)."
   ]
  },
  {
   "cell_type": "code",
   "execution_count": 7,
   "id": "adc819a8-4ecc-4691-a5b9-3374d3f622be",
   "metadata": {},
   "outputs": [
    {
     "name": "stdout",
     "output_type": "stream",
     "text": [
      "9659\n"
     ]
    }
   ],
   "source": [
    "reviews_max = {}\n",
    "\n",
    "for row in rows_google:\n",
    "    name = row[0]\n",
    "    n_reviews = float(row[3])\n",
    "\n",
    "    if name in reviews_max and reviews_max[name] < n_reviews:\n",
    "        reviews_max[name] = n_reviews\n",
    "    elif name not in reviews_max:\n",
    "        reviews_max[name] = n_reviews\n",
    "\n",
    "print(len(reviews_max)) # to verify that all went ok !\n",
    "        "
   ]
  },
  {
   "cell_type": "code",
   "execution_count": 8,
   "id": "a11a19eb-be67-40bf-8026-63bc4c8decdc",
   "metadata": {},
   "outputs": [
    {
     "name": "stdout",
     "output_type": "stream",
     "text": [
      "9659\n"
     ]
    }
   ],
   "source": [
    "google_clean = []\n",
    "already_added = []\n",
    "\n",
    "for row in rows_google:\n",
    "    name = row[0]\n",
    "    n_reviews = float(row[3])\n",
    "\n",
    "    if n_reviews == reviews_max[name] and name not in already_added:\n",
    "        google_clean.append(row)\n",
    "        already_added.append(name)\n",
    "\n",
    "print(len(google_clean)) # to verify that all went ok !"
   ]
  },
  {
   "cell_type": "markdown",
   "id": "9985079f-2f5c-4cc7-a257-57d4c7c5832c",
   "metadata": {},
   "source": [
    "### remove non-english apps\n",
    "All english characters as a value in the ASCII norm. So to verify is our app name is in english we create a function that will verify if each character of our app correspond to a ASCII number. If more than 3 characters don't correspond to that we consider our app to be non-english."
   ]
  },
  {
   "cell_type": "code",
   "execution_count": 9,
   "id": "4f82b7c0-8776-4742-9eaf-29f07b8748fb",
   "metadata": {},
   "outputs": [
    {
     "name": "stdout",
     "output_type": "stream",
     "text": [
      "False\n",
      "True\n",
      "True\n"
     ]
    }
   ],
   "source": [
    "def is_english_app(app_name):\n",
    "    i = 0\n",
    "    for character in app_name:\n",
    "        if ord(character) > 127:\n",
    "            i += 1\n",
    "            \n",
    "            if i > 3: \n",
    "                return False\n",
    "    else:\n",
    "        return True\n",
    "\n",
    "# We test our function\n",
    "print(is_english_app('爱奇艺PPS -《欢乐颂2》电视剧热播'))\n",
    "print(is_english_app('Docs To Go™ Free Office Suite'))\n",
    "print(is_english_app('Instachat 😜'))"
   ]
  },
  {
   "cell_type": "code",
   "execution_count": 10,
   "id": "5ab22876-940e-4cba-ab38-7777c3ca696a",
   "metadata": {},
   "outputs": [
    {
     "name": "stdout",
     "output_type": "stream",
     "text": [
      "9614\n",
      "6183\n"
     ]
    }
   ],
   "source": [
    "filtered_apple = []\n",
    "filtered_google = []\n",
    "\n",
    "for row in google_clean:\n",
    "    name = row[0]\n",
    "\n",
    "    if is_english_app(name):\n",
    "        filtered_google.append(row)\n",
    "\n",
    "for row in rows_apple:\n",
    "    name = row[1]\n",
    "\n",
    "    if is_english_app(name):\n",
    "        filtered_apple.append(row)\n",
    "\n",
    "print(len(filtered_google))\n",
    "print(len(filtered_apple))\n"
   ]
  },
  {
   "cell_type": "markdown",
   "id": "cc533e31-99eb-40d8-b9da-252c8c91f476",
   "metadata": {},
   "source": [
    "### Remove the non-free apps"
   ]
  },
  {
   "cell_type": "code",
   "execution_count": 11,
   "id": "4f47bad0-8a43-48f7-a7fc-375ed7c537f4",
   "metadata": {},
   "outputs": [
    {
     "name": "stdout",
     "output_type": "stream",
     "text": [
      "3222\n",
      "8864\n"
     ]
    }
   ],
   "source": [
    "cleaned_apple = []\n",
    "cleaned_google = []\n",
    "\n",
    "for row in filtered_apple:\n",
    "    price = row[4]\n",
    "\n",
    "    if price == '0.0':\n",
    "        cleaned_apple.append(row)\n",
    "\n",
    "for row in filtered_google:\n",
    "    price = row[7]\n",
    "\n",
    "    if price == '0':\n",
    "        cleaned_google.append(row)\n",
    "\n",
    "\n",
    "print(len(cleaned_apple))\n",
    "print(len(cleaned_google))"
   ]
  },
  {
   "cell_type": "markdown",
   "id": "b752707d-49f3-40f2-9f65-3e1e4ebfc141",
   "metadata": {},
   "source": [
    "## Let's Determine the most common genre\n",
    "As already mentionned, the revenue of our company is affected by the number of people that download our app since we make money on ads. It's therefore important to us to add on Apple Store and Google PlayStore, apps that will have good response from the users.\n",
    "\n",
    "So we will make a first version of our app (a test version) that we will add on Google PlayStore and if the users like it, we will develop it further and then add it on Apple Store if the app is profitable after six months.\n",
    "\n",
    "To start building our first test app, we have to find a common genres for each market. We will use for that the columns ***prime_genre*** for Apple Store datas and ***Genres and Category*** for Google PlayStore."
   ]
  },
  {
   "cell_type": "code",
   "execution_count": 12,
   "id": "d6abd5d3-895e-426d-a307-ef93a40a304e",
   "metadata": {},
   "outputs": [
    {
     "name": "stdout",
     "output_type": "stream",
     "text": [
      "Games : 58.16263190564867\n",
      "Entertainment : 7.883302296710118\n",
      "Photo & Video : 4.9658597144630665\n",
      "Education : 3.662321539416512\n",
      "Social Networking : 3.2898820608317814\n",
      "Shopping : 2.60707635009311\n",
      "Utilities : 2.5139664804469275\n",
      "Sports : 2.1415270018621975\n",
      "Music : 2.0484171322160147\n",
      "Health & Fitness : 2.0173805090006205\n",
      "Productivity : 1.7380509000620732\n",
      "Lifestyle : 1.5828677839851024\n",
      "News : 1.3345747982619491\n",
      "Travel : 1.2414649286157666\n",
      "Finance : 1.1173184357541899\n",
      "Weather : 0.8690254500310366\n",
      "Food & Drink : 0.8069522036002483\n",
      "Reference : 0.5586592178770949\n",
      "Business : 0.5276225946617008\n",
      "Book : 0.4345127250155183\n",
      "Navigation : 0.186219739292365\n",
      "Medical : 0.186219739292365\n",
      "Catalogs : 0.12414649286157665\n",
      "None\n",
      "\n",
      "FAMILY : 18.907942238267147\n",
      "GAME : 9.724729241877256\n",
      "TOOLS : 8.461191335740072\n",
      "BUSINESS : 4.591606498194946\n",
      "LIFESTYLE : 3.9034296028880866\n",
      "PRODUCTIVITY : 3.892148014440433\n",
      "FINANCE : 3.7003610108303246\n",
      "MEDICAL : 3.531137184115524\n",
      "SPORTS : 3.395758122743682\n",
      "PERSONALIZATION : 3.3167870036101084\n",
      "COMMUNICATION : 3.2378158844765346\n",
      "HEALTH_AND_FITNESS : 3.0798736462093865\n",
      "PHOTOGRAPHY : 2.944494584837545\n",
      "NEWS_AND_MAGAZINES : 2.7978339350180503\n",
      "SOCIAL : 2.6624548736462095\n",
      "TRAVEL_AND_LOCAL : 2.33528880866426\n",
      "SHOPPING : 2.2450361010830324\n",
      "BOOKS_AND_REFERENCE : 2.1435018050541514\n",
      "DATING : 1.861462093862816\n",
      "VIDEO_PLAYERS : 1.7937725631768955\n",
      "MAPS_AND_NAVIGATION : 1.3989169675090252\n",
      "FOOD_AND_DRINK : 1.2409747292418771\n",
      "EDUCATION : 1.1620036101083033\n",
      "ENTERTAINMENT : 0.9589350180505415\n",
      "LIBRARIES_AND_DEMO : 0.9363718411552346\n",
      "AUTO_AND_VEHICLES : 0.9250902527075812\n",
      "HOUSE_AND_HOME : 0.8235559566787004\n",
      "WEATHER : 0.8009927797833934\n",
      "EVENTS : 0.7107400722021661\n",
      "PARENTING : 0.6543321299638989\n",
      "ART_AND_DESIGN : 0.6430505415162455\n",
      "COMICS : 0.6204873646209386\n",
      "BEAUTY : 0.5979241877256317\n",
      "None\n",
      "\n",
      "Tools : 8.449909747292418\n",
      "Entertainment : 6.069494584837545\n",
      "Education : 5.347472924187725\n",
      "Business : 4.591606498194946\n",
      "Productivity : 3.892148014440433\n",
      "Lifestyle : 3.892148014440433\n",
      "Finance : 3.7003610108303246\n",
      "Medical : 3.531137184115524\n",
      "Sports : 3.463447653429603\n",
      "Personalization : 3.3167870036101084\n",
      "Communication : 3.2378158844765346\n",
      "Action : 3.1024368231046933\n",
      "Health & Fitness : 3.0798736462093865\n",
      "Photography : 2.944494584837545\n",
      "News & Magazines : 2.7978339350180503\n",
      "Social : 2.6624548736462095\n",
      "Travel & Local : 2.3240072202166067\n",
      "Shopping : 2.2450361010830324\n",
      "Books & Reference : 2.1435018050541514\n",
      "Simulation : 2.0419675090252705\n",
      "Dating : 1.861462093862816\n",
      "Arcade : 1.8501805054151623\n",
      "Video Players & Editors : 1.7712093862815883\n",
      "Casual : 1.7599277978339352\n",
      "Maps & Navigation : 1.3989169675090252\n",
      "Food & Drink : 1.2409747292418771\n",
      "Puzzle : 1.128158844765343\n",
      "Racing : 0.9927797833935018\n",
      "Role Playing : 0.9363718411552346\n",
      "Libraries & Demo : 0.9363718411552346\n",
      "Auto & Vehicles : 0.9250902527075812\n",
      "Strategy : 0.9138086642599278\n",
      "House & Home : 0.8235559566787004\n",
      "Weather : 0.8009927797833934\n",
      "Events : 0.7107400722021661\n",
      "Adventure : 0.6768953068592057\n",
      "Comics : 0.6092057761732852\n",
      "Beauty : 0.5979241877256317\n",
      "Art & Design : 0.5979241877256317\n",
      "Parenting : 0.4963898916967509\n",
      "Card : 0.45126353790613716\n",
      "Casino : 0.42870036101083037\n",
      "Trivia : 0.41741877256317694\n",
      "Educational;Education : 0.39485559566787\n",
      "Board : 0.3835740072202166\n",
      "Educational : 0.3722924187725632\n",
      "Education;Education : 0.33844765342960287\n",
      "Word : 0.2594765342960289\n",
      "Casual;Pretend Play : 0.236913357400722\n",
      "Music : 0.2030685920577617\n",
      "Racing;Action & Adventure : 0.16922382671480143\n",
      "Puzzle;Brain Games : 0.16922382671480143\n",
      "Entertainment;Music & Video : 0.16922382671480143\n",
      "Casual;Brain Games : 0.13537906137184114\n",
      "Casual;Action & Adventure : 0.13537906137184114\n",
      "Arcade;Action & Adventure : 0.12409747292418773\n",
      "Action;Action & Adventure : 0.10153429602888085\n",
      "Educational;Pretend Play : 0.09025270758122744\n",
      "Simulation;Action & Adventure : 0.078971119133574\n",
      "Parenting;Education : 0.078971119133574\n",
      "Entertainment;Brain Games : 0.078971119133574\n",
      "Board;Brain Games : 0.078971119133574\n",
      "Parenting;Music & Video : 0.06768953068592057\n",
      "Educational;Brain Games : 0.06768953068592057\n",
      "Casual;Creativity : 0.06768953068592057\n",
      "Art & Design;Creativity : 0.06768953068592057\n",
      "Education;Pretend Play : 0.056407942238267145\n",
      "Role Playing;Pretend Play : 0.04512635379061372\n",
      "Education;Creativity : 0.04512635379061372\n",
      "Role Playing;Action & Adventure : 0.033844765342960284\n",
      "Puzzle;Action & Adventure : 0.033844765342960284\n",
      "Entertainment;Creativity : 0.033844765342960284\n",
      "Entertainment;Action & Adventure : 0.033844765342960284\n",
      "Educational;Creativity : 0.033844765342960284\n",
      "Educational;Action & Adventure : 0.033844765342960284\n",
      "Education;Music & Video : 0.033844765342960284\n",
      "Education;Brain Games : 0.033844765342960284\n",
      "Education;Action & Adventure : 0.033844765342960284\n",
      "Adventure;Action & Adventure : 0.033844765342960284\n",
      "Video Players & Editors;Music & Video : 0.02256317689530686\n",
      "Sports;Action & Adventure : 0.02256317689530686\n",
      "Simulation;Pretend Play : 0.02256317689530686\n",
      "Puzzle;Creativity : 0.02256317689530686\n",
      "Music;Music & Video : 0.02256317689530686\n",
      "Entertainment;Pretend Play : 0.02256317689530686\n",
      "Casual;Education : 0.02256317689530686\n",
      "Board;Action & Adventure : 0.02256317689530686\n",
      "Video Players & Editors;Creativity : 0.01128158844765343\n",
      "Trivia;Education : 0.01128158844765343\n",
      "Travel & Local;Action & Adventure : 0.01128158844765343\n",
      "Tools;Education : 0.01128158844765343\n",
      "Strategy;Education : 0.01128158844765343\n",
      "Strategy;Creativity : 0.01128158844765343\n",
      "Strategy;Action & Adventure : 0.01128158844765343\n",
      "Simulation;Education : 0.01128158844765343\n",
      "Role Playing;Brain Games : 0.01128158844765343\n",
      "Racing;Pretend Play : 0.01128158844765343\n",
      "Puzzle;Education : 0.01128158844765343\n",
      "Parenting;Brain Games : 0.01128158844765343\n",
      "Music & Audio;Music & Video : 0.01128158844765343\n",
      "Lifestyle;Pretend Play : 0.01128158844765343\n",
      "Lifestyle;Education : 0.01128158844765343\n",
      "Health & Fitness;Education : 0.01128158844765343\n",
      "Health & Fitness;Action & Adventure : 0.01128158844765343\n",
      "Entertainment;Education : 0.01128158844765343\n",
      "Communication;Creativity : 0.01128158844765343\n",
      "Comics;Creativity : 0.01128158844765343\n",
      "Casual;Music & Video : 0.01128158844765343\n",
      "Card;Action & Adventure : 0.01128158844765343\n",
      "Books & Reference;Education : 0.01128158844765343\n",
      "Art & Design;Pretend Play : 0.01128158844765343\n",
      "Art & Design;Action & Adventure : 0.01128158844765343\n",
      "Arcade;Pretend Play : 0.01128158844765343\n",
      "Adventure;Education : 0.01128158844765343\n",
      "None\n"
     ]
    }
   ],
   "source": [
    "def freq_table(dataset, index):\n",
    "    freq_table =  {}\n",
    "    total = 0\n",
    "\n",
    "    for row in dataset:\n",
    "        key = row[index]\n",
    "        total += 1\n",
    "\n",
    "        if key in freq_table:\n",
    "            freq_table[key] += 1\n",
    "        else:\n",
    "            freq_table[key] = 1\n",
    "    \n",
    "    table_percentages = {}\n",
    "    for key in freq_table:\n",
    "        percentage = (freq_table[key] / total) * 100\n",
    "        table_percentages[key] = percentage \n",
    "    \n",
    "    return table_percentages\n",
    "\n",
    "\n",
    "def display_table(dataset, index):\n",
    "    table = freq_table(dataset, index)\n",
    "    table_display = []\n",
    "    for key in table:\n",
    "        key_val_as_tuple = (table[key], key)\n",
    "        table_display.append(key_val_as_tuple)\n",
    "\n",
    "    table_sorted = sorted(table_display, reverse = True)\n",
    "    for entry in table_sorted:\n",
    "        print(entry[1], ':', entry[0])\n",
    "\n",
    "\n",
    "print(display_table(cleaned_apple, 11))\n",
    "print()\n",
    "print(display_table(cleaned_google, 1))\n",
    "print()\n",
    "print(display_table(cleaned_google, 9))"
   ]
  },
  {
   "cell_type": "markdown",
   "id": "fdc9697a-e735-4e3f-8311-4afada1d2fa0",
   "metadata": {},
   "source": [
    "#### Analyze of the frequency table for App Store\n",
    "\r\n",
    "We can see that among the free English apps, more than a half (58.16%) are games. Entertainment apps are close to 8%, followed by photo and video apps, which are close to 5%. Only 3.66% of the apps are designed for education, followed by social networking apps which amount for 3.29% of the apps in our data set.\r\n",
    "\r\n",
    "The general impression is that App Store (at least the part containing free English apps) is dominated by apps that are designed for fun (games, entertainment, photo and video, social networking, sports, music, etc.), while apps with practical purposes (education, shopping, utilities, productivity, lifestyle, etc.) are more rare. However, the fact that fun apps are the most numerous doesn't also imply that they also have the greatest number of users — the demand might not be the same as the offer.\n",
    "\n",
    "#### Analyze of the frequency table for Google Play S\n",
    "The landscape seems significantly different on Google Play: there are not that many apps designed for fun, and it seems that a good number of apps are designed for practical purposes (family, tools, business, lifestyle, productivity, etc.). However, if we investigate this further, we can see that the family category (which accounts for almost 19% of the apps) means mostly games for kids.\n",
    "Even so, practical apps seem to have a better representation on Google Play compared to App Store. This picture is also confirmed by the frequency table we see for the Genres column.\n",
    "\n",
    "The difference between the Genres and the Category columns is not crystal clear, but one thing we can notice is that the Genres column is much more granular (it has more categories). We're only looking for the bigger picture at the moment, so we'll only work with the Category column moving forward.\r\n",
    "\r\n",
    "Up to this point, we found that the App Store is dominated by apps designed for fun, while Google Play shows a more balanced landscape of both practical and for-fun apps. Now we'd like to get an idea about the kind of apps that ha e most uses.e\n",
    "* "
   ]
  },
  {
   "cell_type": "markdown",
   "id": "e947ed85-36dd-48e5-8800-70ab9ee7cefa",
   "metadata": {},
   "source": [
    "## Let's find the most popular app by genre in App Store"
   ]
  },
  {
   "cell_type": "code",
   "execution_count": 18,
   "id": "7bdcd85e-66a3-4bff-a26b-11a8da3c66fe",
   "metadata": {},
   "outputs": [
    {
     "name": "stdout",
     "output_type": "stream",
     "text": [
      "Social Networking: 71548.34905660378\n",
      "Photo & Video: 28441.54375\n",
      "Games: 22788.6696905016\n",
      "Music: 57326.530303030304\n",
      "Reference: 74942.11111111111\n",
      "Health & Fitness: 23298.015384615384\n",
      "Weather: 52279.892857142855\n",
      "Utilities: 18684.456790123455\n",
      "Travel: 28243.8\n",
      "Shopping: 26919.690476190477\n",
      "News: 21248.023255813954\n",
      "Navigation: 86090.33333333333\n",
      "Lifestyle: 16485.764705882353\n",
      "Entertainment: 14029.830708661417\n",
      "Food & Drink: 33333.92307692308\n",
      "Sports: 23008.898550724636\n",
      "Book: 39758.5\n",
      "Finance: 31467.944444444445\n",
      "Education: 7003.983050847458\n",
      "Productivity: 21028.410714285714\n",
      "Business: 7491.117647058823\n",
      "Catalogs: 4004.0\n",
      "Medical: 612.0\n"
     ]
    }
   ],
   "source": [
    "prime_genre_freq_table = freq_table(cleaned_apple, 11)\n",
    "\n",
    "for genre in prime_genre_freq_table:\n",
    "    total = 0\n",
    "    len_genre = 0\n",
    "\n",
    "    for app in cleaned_apple:\n",
    "        genre_app = app[11]\n",
    "\n",
    "        if genre_app == genre:\n",
    "            total += float(app[5])\n",
    "            len_genre += 1\n",
    "    \n",
    "    rating_count_average = total / len_genre\n",
    "    print(f\"{genre}: {rating_count_average}\")"
   ]
  },
  {
   "cell_type": "markdown",
   "id": "202f9b2a-dc0c-40b9-b92b-86199492d811",
   "metadata": {},
   "source": [
    "On average, navigation apps have the highest number of user reviews, but this figure is heavily influenced by Waze and Google Maps, which have close to half a million user reviews together."
   ]
  },
  {
   "cell_type": "code",
   "execution_count": 35,
   "id": "da9f1fe6-dc74-4e11-9431-003975710a60",
   "metadata": {},
   "outputs": [
    {
     "name": "stdout",
     "output_type": "stream",
     "text": [
      "Kindle – Read eBooks, Magazines & Textbooks: 252076\n",
      "Audible – audio books, original series & podcasts: 105274\n",
      "Color Therapy Adult Coloring Book for Adults: 84062\n",
      "OverDrive – Library eBooks and Audiobooks: 65450\n",
      "HOOKED - Chat Stories: 47829\n",
      "BookShout: Read eBooks & Track Your Reading Goals: 879\n",
      "Dr. Seuss Treasury — 50 best kids books: 451\n",
      "Green Riding Hood: 392\n",
      "Weirdwood Manor: 197\n",
      "MangaZERO - comic reader: 9\n",
      "ikouhoushi: 0\n",
      "MangaTiara - love comic reader: 0\n",
      "謎解き: 0\n",
      "謎解き2016: 0\n"
     ]
    }
   ],
   "source": [
    "for app in cleaned_apple:\n",
    "    if app[11] == 'Book':\n",
    "        print(f\"{app[1]}: {app[5]}\")"
   ]
  },
  {
   "cell_type": "markdown",
   "id": "e56ff1b5-1214-47b4-8952-984282e9897f",
   "metadata": {},
   "source": [
    "Our aim is to find popular genres, but navigation, social networking or music apps might seem more popular than they really are. The average number of ratings seem to be skewed by very few apps which have hundreds of thousands of user ratings, while the other apps may struggle to get past the 10,000 threshold. We could get a better picture by removing these extremely popular apps for each genre and then rework the averages, but we'll leave this level of detail for later.\r\n",
    "\r\n",
    "Reference apps have 74,942 user ratings on average, but it's actually the Bible and Dictionary.com which skew up the average rating:"
   ]
  },
  {
   "cell_type": "code",
   "execution_count": 36,
   "id": "4969e7c3-ab2d-4ce5-b9c9-143e1d66e412",
   "metadata": {},
   "outputs": [
    {
     "name": "stdout",
     "output_type": "stream",
     "text": [
      "Bible: 985920\n",
      "Dictionary.com Dictionary & Thesaurus: 200047\n",
      "Dictionary.com Dictionary & Thesaurus for iPad: 54175\n",
      "Google Translate: 26786\n",
      "Muslim Pro: Ramadan 2017 Prayer Times, Azan, Quran: 18418\n",
      "New Furniture Mods - Pocket Wiki & Game Tools for Minecraft PC Edition: 17588\n",
      "Merriam-Webster Dictionary: 16849\n",
      "Night Sky: 12122\n",
      "City Maps for Minecraft PE - The Best Maps for Minecraft Pocket Edition (MCPE): 8535\n",
      "LUCKY BLOCK MOD ™ for Minecraft PC Edition - The Best Pocket Wiki & Mods Installer Tools: 4693\n",
      "GUNS MODS for Minecraft PC Edition - Mods Tools: 1497\n",
      "Guides for Pokémon GO - Pokemon GO News and Cheats: 826\n",
      "WWDC: 762\n",
      "Horror Maps for Minecraft PE - Download The Scariest Maps for Minecraft Pocket Edition (MCPE) Free: 718\n",
      "VPN Express: 14\n",
      "Real Bike Traffic Rider Virtual Reality Glasses: 8\n",
      "教えて!goo: 0\n",
      "Jishokun-Japanese English Dictionary & Translator: 0\n"
     ]
    }
   ],
   "source": [
    "for app in cleaned_apple:\n",
    "    if app[11] == 'Reference':\n",
    "        print(f\"{app[1]}: {app[5]}\")"
   ]
  },
  {
   "cell_type": "markdown",
   "id": "436235f3-226f-4b52-a599-4cfc168bea11",
   "metadata": {},
   "source": [
    "However, this niche seems to show some potential. One thing we could do is take another popular book and turn it into an app where we could add different features besides the raw version of the book. This might include daily quotes from the book, an audio version of the book, quizzes about the book, etc. On top of that, we could also embed a dictionary within the app, so users don't need to exit our app to look up words in an external app.\r\n",
    "\r\n",
    "This idea seems to fit well with the fact that the App Store is dominated by for-fun apps. This suggests the market might be a bit saturated with for-fun apps, which means a practical app might have more of a chance to stand out among the huge number of apps on the App Store."
   ]
  },
  {
   "cell_type": "code",
   "execution_count": 37,
   "id": "8310130c-495e-48c7-b23c-3f359fc50e8d",
   "metadata": {},
   "outputs": [
    {
     "name": "stdout",
     "output_type": "stream",
     "text": [
      "ART_AND_DESIGN: 1986335.0877192982\n",
      "AUTO_AND_VEHICLES: 647317.8170731707\n",
      "BEAUTY: 513151.88679245283\n",
      "BOOKS_AND_REFERENCE: 8767811.894736841\n",
      "BUSINESS: 1712290.1474201474\n",
      "COMICS: 817657.2727272727\n",
      "COMMUNICATION: 38456119.167247385\n",
      "DATING: 854028.8303030303\n",
      "EDUCATION: 1833495.145631068\n",
      "ENTERTAINMENT: 11640705.88235294\n",
      "EVENTS: 253542.22222222222\n",
      "FINANCE: 1387692.475609756\n",
      "FOOD_AND_DRINK: 1924897.7363636363\n",
      "HEALTH_AND_FITNESS: 4188821.9853479853\n",
      "HOUSE_AND_HOME: 1331540.5616438356\n",
      "LIBRARIES_AND_DEMO: 638503.734939759\n",
      "LIFESTYLE: 1437816.2687861272\n",
      "GAME: 15588015.603248259\n",
      "FAMILY: 3695641.8198090694\n",
      "MEDICAL: 120550.61980830671\n",
      "SOCIAL: 23253652.127118643\n",
      "SHOPPING: 7036877.311557789\n",
      "PHOTOGRAPHY: 17840110.40229885\n",
      "SPORTS: 3638640.1428571427\n",
      "TRAVEL_AND_LOCAL: 13984077.710144928\n",
      "TOOLS: 10801391.298666667\n",
      "PERSONALIZATION: 5201482.6122448975\n",
      "PRODUCTIVITY: 16787331.344927534\n",
      "PARENTING: 542603.6206896552\n",
      "WEATHER: 5074486.197183099\n",
      "VIDEO_PLAYERS: 24727872.452830188\n",
      "NEWS_AND_MAGAZINES: 9549178.467741935\n",
      "MAPS_AND_NAVIGATION: 4056941.7741935486\n"
     ]
    }
   ],
   "source": [
    "prime_genre_freq_table = freq_table(cleaned_google, 1)\n",
    "\n",
    "for category in prime_genre_freq_table:\n",
    "    total = 0\n",
    "    len_category = 0\n",
    "\n",
    "    for app in cleaned_google:\n",
    "        category_app = app[1]\n",
    "\n",
    "        if category_app == category:\n",
    "            n_installs = app[5]\n",
    "            n_installs = n_installs.replace(\"+\", \"\").replace(\",\", \"\")\n",
    "            total += int(n_installs)\n",
    "            len_category += 1\n",
    "    \n",
    "    install_count_average = total / len_category\n",
    "    print(f\"{category}: {install_count_average}\")"
   ]
  },
  {
   "cell_type": "markdown",
   "id": "61197671-1bb7-4951-b007-fd9288429f0e",
   "metadata": {},
   "source": [
    "As with App Store, we see that building an app around a popular book can be profitable. "
   ]
  },
  {
   "cell_type": "code",
   "execution_count": 38,
   "id": "eaafaa97-0535-47fd-bac4-d6b05e92de09",
   "metadata": {},
   "outputs": [
    {
     "name": "stdout",
     "output_type": "stream",
     "text": [
      "Wikipedia : 10,000,000+\n",
      "Cool Reader : 10,000,000+\n",
      "Book store : 1,000,000+\n",
      "FBReader: Favorite Book Reader : 10,000,000+\n",
      "Free Books - Spirit Fanfiction and Stories : 1,000,000+\n",
      "AlReader -any text book reader : 5,000,000+\n",
      "FamilySearch Tree : 1,000,000+\n",
      "Cloud of Books : 1,000,000+\n",
      "ReadEra – free ebook reader : 1,000,000+\n",
      "Ebook Reader : 5,000,000+\n",
      "Read books online : 5,000,000+\n",
      "eBoox: book reader fb2 epub zip : 1,000,000+\n",
      "All Maths Formulas : 1,000,000+\n",
      "Ancestry : 5,000,000+\n",
      "HTC Help : 10,000,000+\n",
      "Moon+ Reader : 10,000,000+\n",
      "English-Myanmar Dictionary : 1,000,000+\n",
      "Golden Dictionary (EN-AR) : 1,000,000+\n",
      "All Language Translator Free : 1,000,000+\n",
      "Aldiko Book Reader : 10,000,000+\n",
      "Dictionary - WordWeb : 5,000,000+\n",
      "50000 Free eBooks & Free AudioBooks : 5,000,000+\n",
      "Al-Quran (Free) : 10,000,000+\n",
      "Al Quran Indonesia : 10,000,000+\n",
      "Al'Quran Bahasa Indonesia : 10,000,000+\n",
      "Al Quran Al karim : 1,000,000+\n",
      "Al Quran : EAlim - Translations & MP3 Offline : 5,000,000+\n",
      "Koran Read &MP3 30 Juz Offline : 1,000,000+\n",
      "Hafizi Quran 15 lines per page : 1,000,000+\n",
      "Quran for Android : 10,000,000+\n",
      "Satellite AR : 1,000,000+\n",
      "Oxford A-Z of English Usage : 1,000,000+\n",
      "Dictionary.com: Find Definitions for English Words : 10,000,000+\n",
      "English Dictionary - Offline : 10,000,000+\n",
      "Bible KJV : 5,000,000+\n",
      "NOOK: Read eBooks & Magazines : 10,000,000+\n",
      "Brilliant Quotes: Life, Love, Family & Motivation : 1,000,000+\n",
      "Stats Royale for Clash Royale : 1,000,000+\n",
      "Dictionary : 10,000,000+\n",
      "wikiHow: how to do anything : 1,000,000+\n",
      "EGW Writings : 1,000,000+\n",
      "My Little Pony AR Guide : 1,000,000+\n",
      "Spanish English Translator : 10,000,000+\n",
      "Dictionary - Merriam-Webster : 10,000,000+\n",
      "JW Library : 10,000,000+\n",
      "Oxford Dictionary of English : Free : 10,000,000+\n",
      "English Hindi Dictionary : 10,000,000+\n",
      "English to Hindi Dictionary : 5,000,000+\n"
     ]
    }
   ],
   "source": [
    "for app in cleaned_google:\n",
    "    if app[1] == 'BOOKS_AND_REFERENCE' and (app[5] == '1,000,000+'\n",
    "                                            or app[5] == '5,000,000+'\n",
    "                                            or app[5] == '10,000,000+'\n",
    "                                            or app[5] == '50,000,000+'):\n",
    "        print(app[0], ':', app[5])"
   ]
  },
  {
   "cell_type": "markdown",
   "id": "72a898c3-30cf-4f3e-847a-7af548babc52",
   "metadata": {},
   "source": [
    "In this project, we analyzed data about the App Store and Google Play mobile apps with the goal of recommending an app profile that can be profitable for both markets.\n",
    "\n",
    "We concluded that taking a popular book (perhaps a more recent book) and turning it into an app could be profitable for both the Google Play and the App Store markets. The markets are already full of libraries, so we need to add some special features besides the raw version of the book. This might include daily quotes from the book, an audio version of the book, quizzes on the book, a forum where people can discuss the book, etc."
   ]
  }
 ],
 "metadata": {
  "kernelspec": {
   "display_name": "Python 3 (ipykernel)",
   "language": "python",
   "name": "python3"
  },
  "language_info": {
   "codemirror_mode": {
    "name": "ipython",
    "version": 3
   },
   "file_extension": ".py",
   "mimetype": "text/x-python",
   "name": "python",
   "nbconvert_exporter": "python",
   "pygments_lexer": "ipython3",
   "version": "3.12.1"
  }
 },
 "nbformat": 4,
 "nbformat_minor": 5
}
